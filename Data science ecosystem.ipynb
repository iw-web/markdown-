{
 "cells": [
  {
   "cell_type": "markdown",
   "id": "c91d2992-921f-4280-ad6a-0a62b4cc854d",
   "metadata": {},
   "source": [
    "# Data Science Tools and Ecosystem\n"
   ]
  },
  {
   "cell_type": "markdown",
   "id": "88c38398-f3a9-4738-bda5-3f121152e5a0",
   "metadata": {
    "tags": []
   },
   "source": [
    " *In this notebook, data  science tools and ecosystems are summarised:-*"
   ]
  },
  {
   "cell_type": "markdown",
   "id": "224bf654-f83c-491f-9d69-4a7d89216c3b",
   "metadata": {},
   "source": [
    "*Some of the popular languages data scientists use are:-*\n",
    "\n",
    "1. Python\n",
    "2. Scala\n",
    "3. R programming\n",
    "4. SQL \n"
   ]
  },
  {
   "cell_type": "markdown",
   "id": "05dfffa4-a262-4301-a29a-766888c9ca59",
   "metadata": {},
   "source": [
    "*Some of the commonly used libraries by data scientists include:-*\n",
    "\n",
    "1. Numpy \n",
    "2. Scipy \n",
    "3. Pandas\n",
    "4. Matplotlib\n",
    "5. scikit_learn"
   ]
  },
  {
   "cell_type": "markdown",
   "id": "52de83c6-7c87-4fa1-9564-ad2ba9de4ab9",
   "metadata": {},
   "source": [
    "|Data science tools|\n",
    "|------------------|\n",
    "|Jupyter Lab|\n",
    "|R studio|\n",
    "|Apache Zepellin|"
   ]
  },
  {
   "cell_type": "markdown",
   "id": "a5e8dfae-ca80-46a5-9ae7-2893579ded86",
   "metadata": {},
   "source": [
    "### Below are few examples of evaluating arithmetic expressions in Python"
   ]
  },
  {
   "cell_type": "code",
   "execution_count": 3,
   "id": "5a79d76d-6e27-4183-9d14-d4fdcde7be7c",
   "metadata": {
    "tags": []
   },
   "outputs": [
    {
     "data": {
      "text/plain": [
       "17"
      ]
     },
     "execution_count": 3,
     "metadata": {},
     "output_type": "execute_result"
    }
   ],
   "source": [
    "(3*4)+5"
   ]
  },
  {
   "cell_type": "code",
   "execution_count": 5,
   "id": "5794373c-b12f-44b5-8736-aecae0b32ef9",
   "metadata": {
    "tags": []
   },
   "outputs": [
    {
     "name": "stdout",
     "output_type": "stream",
     "text": [
      "200 minutes is equal to 3.3333333333333335 hours.\n"
     ]
    }
   ],
   "source": [
    "# convert 200minutes to hours\n",
    "minutes = 200\n",
    "\n",
    "hours = minutes/60\n",
    "print(f\"{minutes} minutes is equal to {hours} hours.\")\n",
    "\n",
    "\n"
   ]
  },
  {
   "cell_type": "markdown",
   "id": "5f25d9de-dbf0-4a49-9830-60e3f0e5e292",
   "metadata": {},
   "source": [
    "**Objectives**\n",
    "\n",
    "* List popular languages for data science. \n",
    "* List popular libraries for data science.\n",
    "* Created tables and did some arithmetic operations."
   ]
  },
  {
   "cell_type": "code",
   "execution_count": null,
   "id": "494b4f81-5c35-402c-b9f5-7f6db829e634",
   "metadata": {},
   "outputs": [],
   "source": []
  }
 ],
 "metadata": {
  "kernelspec": {
   "display_name": "Python",
   "language": "python",
   "name": "conda-env-python-py"
  },
  "language_info": {
   "codemirror_mode": {
    "name": "ipython",
    "version": 3
   },
   "file_extension": ".py",
   "mimetype": "text/x-python",
   "name": "python",
   "nbconvert_exporter": "python",
   "pygments_lexer": "ipython3",
   "version": "3.7.12"
  }
 },
 "nbformat": 4,
 "nbformat_minor": 5
}
